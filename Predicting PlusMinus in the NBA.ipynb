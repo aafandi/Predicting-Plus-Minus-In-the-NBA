{
 "cells": [
  {
   "cell_type": "markdown",
   "metadata": {},
   "source": [
    "# Predicting Plus/Minus in the NBA\n",
    "\n",
    "A peculiar and often misunderstood player statistic in the NBA is the \"plus/minus\" category. A quick Google search results in the following definition for plus/minus:\n",
    "\n",
    "\"The plus/minus statistic is a measure of the point differential when players are in and out of a game. It is calculated by taking the difference in the score when the player enters the game and subtracting it from the score when the player exits the game. These differences are added up over the entire game to give the score. Thus, it is a measure of the impact a player has on the score of the game when he is in the game without measuring any specific statistic.\"\n",
    "\n",
    "Notice the sentence at the end of the definition: \"...it is a measure of the impact a player has on the score of the game when he is in the game *without* measuring any specfic statistic.\"\n",
    "\n",
    "One way to interpret this is to say that, the plus/minus category for a player's statistics should, *a priori*, have *no* dependency on any other statistic. \n",
    "\n",
    "Of course, *this can't possibly be true!* From a holistic point of view, plus/minus is a clear indicator of the *effectiveness* of a player. In fact, one could argue that being positive in the plus/minus category throughout your career means you had, at the very least, a productive NBA career. To say that the plus/minus category has no dependency on other statistics can't be a fact, but instead, must be a consequence of *ignorance*.\n",
    "\n",
    "In this Jupyter Notebook, we will reconcile this ignorance by analyzing data from the 2015-2016 NBA Regular Season. We will use two basic machine learning models to aid in our analysis: k-nearest neighbors and linear regression. The kinds of questions we'd like to answer are the following:\n",
    "\n",
    "1. Can we train a model to predict plus/minus from players' statistics? How well will this model perform?\n",
    "2. How can we determine good training data in order to build our model?\n",
    "3. Is there a factor/group of factors that has a high correlation with plus/minus? If so, which one(s)?\n",
    "\n",
    "On that note, let's get started!\n",
    "\n",
    "By the way, you might ask, \"Why use data from the 2015-2016 Regular Season?\" For basketball fans, you may remember that this is the season in which the *greatest NBA team to have every played the game of basketball* achieved a remarkable, almost anomalous, feat: a regular season record of 73 - 9. This Jupyter Notebook is an homage to their greatness. #dubnation"
   ]
  },
  {
   "cell_type": "markdown",
   "metadata": {},
   "source": [
    "First, we'll import all the libraries we'll need."
   ]
  },
  {
   "cell_type": "code",
   "execution_count": 1,
   "metadata": {},
   "outputs": [],
   "source": [
    "import numpy as np\n",
    "import pandas as pd\n",
    "import matplotlib.pyplot as plt\n",
    "from sklearn import linear_model\n",
    "from sklearn.neighbors import KNeighborsRegressor\n",
    "from sklearn.metrics import mean_squared_error\n",
    "from sklearn.model_selection import cross_val_score, KFold"
   ]
  },
  {
   "cell_type": "markdown",
   "metadata": {},
   "source": [
    "Now let's load the data we'll be working with:"
   ]
  },
  {
   "cell_type": "code",
   "execution_count": 2,
   "metadata": {},
   "outputs": [],
   "source": [
    "NBA_data = pd.read_csv(\"NBA_Regular_Season.csv\")"
   ]
  },
  {
   "cell_type": "markdown",
   "metadata": {},
   "source": [
    "Let's take a look at the first few rows of this data set."
   ]
  },
  {
   "cell_type": "code",
   "execution_count": 3,
   "metadata": {},
   "outputs": [
    {
     "data": {
      "text/html": [
       "<div>\n",
       "<style scoped>\n",
       "    .dataframe tbody tr th:only-of-type {\n",
       "        vertical-align: middle;\n",
       "    }\n",
       "\n",
       "    .dataframe tbody tr th {\n",
       "        vertical-align: top;\n",
       "    }\n",
       "\n",
       "    .dataframe thead th {\n",
       "        text-align: right;\n",
       "    }\n",
       "</style>\n",
       "<table border=\"1\" class=\"dataframe\">\n",
       "  <thead>\n",
       "    <tr style=\"text-align: right;\">\n",
       "      <th></th>\n",
       "      <th>PLAYER</th>\n",
       "      <th>TEAM</th>\n",
       "      <th>AGE</th>\n",
       "      <th>GP</th>\n",
       "      <th>W</th>\n",
       "      <th>MIN</th>\n",
       "      <th>PTS</th>\n",
       "      <th>FGM</th>\n",
       "      <th>FGA</th>\n",
       "      <th>3PM</th>\n",
       "      <th>...</th>\n",
       "      <th>DREB</th>\n",
       "      <th>AST</th>\n",
       "      <th>TOV</th>\n",
       "      <th>STL</th>\n",
       "      <th>BLK</th>\n",
       "      <th>PF</th>\n",
       "      <th>FP</th>\n",
       "      <th>DD2</th>\n",
       "      <th>TD3</th>\n",
       "      <th>plus/minus</th>\n",
       "    </tr>\n",
       "  </thead>\n",
       "  <tbody>\n",
       "    <tr>\n",
       "      <th>0</th>\n",
       "      <td>Alan Anderson</td>\n",
       "      <td>WAS</td>\n",
       "      <td>33</td>\n",
       "      <td>13</td>\n",
       "      <td>8</td>\n",
       "      <td>14.8</td>\n",
       "      <td>5.0</td>\n",
       "      <td>1.6</td>\n",
       "      <td>4.5</td>\n",
       "      <td>0.9</td>\n",
       "      <td>...</td>\n",
       "      <td>2.0</td>\n",
       "      <td>1.1</td>\n",
       "      <td>0.2</td>\n",
       "      <td>0.3</td>\n",
       "      <td>0.1</td>\n",
       "      <td>1.9</td>\n",
       "      <td>10.1</td>\n",
       "      <td>0</td>\n",
       "      <td>0</td>\n",
       "      <td>2.3</td>\n",
       "    </tr>\n",
       "    <tr>\n",
       "      <th>1</th>\n",
       "      <td>Bradley Beal</td>\n",
       "      <td>WAS</td>\n",
       "      <td>23</td>\n",
       "      <td>55</td>\n",
       "      <td>28</td>\n",
       "      <td>31.1</td>\n",
       "      <td>17.4</td>\n",
       "      <td>6.5</td>\n",
       "      <td>14.5</td>\n",
       "      <td>1.9</td>\n",
       "      <td>...</td>\n",
       "      <td>2.7</td>\n",
       "      <td>2.9</td>\n",
       "      <td>2.0</td>\n",
       "      <td>1.0</td>\n",
       "      <td>0.2</td>\n",
       "      <td>2.1</td>\n",
       "      <td>27.4</td>\n",
       "      <td>0</td>\n",
       "      <td>0</td>\n",
       "      <td>-0.4</td>\n",
       "    </tr>\n",
       "    <tr>\n",
       "      <th>2</th>\n",
       "      <td>DeJuan Blair</td>\n",
       "      <td>WAS</td>\n",
       "      <td>27</td>\n",
       "      <td>29</td>\n",
       "      <td>12</td>\n",
       "      <td>7.5</td>\n",
       "      <td>2.1</td>\n",
       "      <td>1.0</td>\n",
       "      <td>2.3</td>\n",
       "      <td>0.0</td>\n",
       "      <td>...</td>\n",
       "      <td>1.3</td>\n",
       "      <td>0.4</td>\n",
       "      <td>0.5</td>\n",
       "      <td>0.3</td>\n",
       "      <td>0.1</td>\n",
       "      <td>1.8</td>\n",
       "      <td>5.5</td>\n",
       "      <td>0</td>\n",
       "      <td>0</td>\n",
       "      <td>-1.3</td>\n",
       "    </tr>\n",
       "    <tr>\n",
       "      <th>3</th>\n",
       "      <td>Drew Gooden</td>\n",
       "      <td>WAS</td>\n",
       "      <td>34</td>\n",
       "      <td>30</td>\n",
       "      <td>18</td>\n",
       "      <td>10.2</td>\n",
       "      <td>2.7</td>\n",
       "      <td>1.1</td>\n",
       "      <td>3.4</td>\n",
       "      <td>0.2</td>\n",
       "      <td>...</td>\n",
       "      <td>1.9</td>\n",
       "      <td>0.4</td>\n",
       "      <td>0.4</td>\n",
       "      <td>0.3</td>\n",
       "      <td>0.4</td>\n",
       "      <td>1.3</td>\n",
       "      <td>8.3</td>\n",
       "      <td>2</td>\n",
       "      <td>0</td>\n",
       "      <td>-2.8</td>\n",
       "    </tr>\n",
       "    <tr>\n",
       "      <th>4</th>\n",
       "      <td>Garrett Temple</td>\n",
       "      <td>WAS</td>\n",
       "      <td>30</td>\n",
       "      <td>80</td>\n",
       "      <td>40</td>\n",
       "      <td>24.4</td>\n",
       "      <td>7.3</td>\n",
       "      <td>2.5</td>\n",
       "      <td>6.3</td>\n",
       "      <td>1.1</td>\n",
       "      <td>...</td>\n",
       "      <td>2.2</td>\n",
       "      <td>1.8</td>\n",
       "      <td>0.8</td>\n",
       "      <td>0.9</td>\n",
       "      <td>0.2</td>\n",
       "      <td>2.4</td>\n",
       "      <td>15.5</td>\n",
       "      <td>0</td>\n",
       "      <td>0</td>\n",
       "      <td>-0.5</td>\n",
       "    </tr>\n",
       "    <tr>\n",
       "      <th>5</th>\n",
       "      <td>Gary Neal</td>\n",
       "      <td>WAS</td>\n",
       "      <td>31</td>\n",
       "      <td>40</td>\n",
       "      <td>18</td>\n",
       "      <td>20.2</td>\n",
       "      <td>9.8</td>\n",
       "      <td>3.8</td>\n",
       "      <td>8.1</td>\n",
       "      <td>1.0</td>\n",
       "      <td>...</td>\n",
       "      <td>1.8</td>\n",
       "      <td>1.2</td>\n",
       "      <td>0.7</td>\n",
       "      <td>0.5</td>\n",
       "      <td>0.0</td>\n",
       "      <td>1.4</td>\n",
       "      <td>14.9</td>\n",
       "      <td>0</td>\n",
       "      <td>0</td>\n",
       "      <td>-4.1</td>\n",
       "    </tr>\n",
       "    <tr>\n",
       "      <th>6</th>\n",
       "      <td>JJ Hickson</td>\n",
       "      <td>WAS</td>\n",
       "      <td>27</td>\n",
       "      <td>35</td>\n",
       "      <td>17</td>\n",
       "      <td>12.5</td>\n",
       "      <td>5.9</td>\n",
       "      <td>2.3</td>\n",
       "      <td>4.4</td>\n",
       "      <td>0.0</td>\n",
       "      <td>...</td>\n",
       "      <td>2.7</td>\n",
       "      <td>0.7</td>\n",
       "      <td>0.7</td>\n",
       "      <td>0.4</td>\n",
       "      <td>0.4</td>\n",
       "      <td>1.3</td>\n",
       "      <td>13.2</td>\n",
       "      <td>2</td>\n",
       "      <td>0</td>\n",
       "      <td>-1.7</td>\n",
       "    </tr>\n",
       "    <tr>\n",
       "      <th>7</th>\n",
       "      <td>Jared Dudley</td>\n",
       "      <td>WAS</td>\n",
       "      <td>30</td>\n",
       "      <td>81</td>\n",
       "      <td>40</td>\n",
       "      <td>25.9</td>\n",
       "      <td>7.9</td>\n",
       "      <td>2.9</td>\n",
       "      <td>6.0</td>\n",
       "      <td>1.2</td>\n",
       "      <td>...</td>\n",
       "      <td>2.9</td>\n",
       "      <td>2.1</td>\n",
       "      <td>1.0</td>\n",
       "      <td>0.9</td>\n",
       "      <td>0.2</td>\n",
       "      <td>2.3</td>\n",
       "      <td>17.7</td>\n",
       "      <td>0</td>\n",
       "      <td>0</td>\n",
       "      <td>0.7</td>\n",
       "    </tr>\n",
       "    <tr>\n",
       "      <th>8</th>\n",
       "      <td>Jarell Eddie</td>\n",
       "      <td>WAS</td>\n",
       "      <td>24</td>\n",
       "      <td>26</td>\n",
       "      <td>13</td>\n",
       "      <td>5.6</td>\n",
       "      <td>2.4</td>\n",
       "      <td>0.8</td>\n",
       "      <td>2.5</td>\n",
       "      <td>0.6</td>\n",
       "      <td>...</td>\n",
       "      <td>0.8</td>\n",
       "      <td>0.2</td>\n",
       "      <td>0.0</td>\n",
       "      <td>0.2</td>\n",
       "      <td>0.0</td>\n",
       "      <td>0.2</td>\n",
       "      <td>4.4</td>\n",
       "      <td>0</td>\n",
       "      <td>0</td>\n",
       "      <td>-1.3</td>\n",
       "    </tr>\n",
       "    <tr>\n",
       "      <th>9</th>\n",
       "      <td>John Wall</td>\n",
       "      <td>WAS</td>\n",
       "      <td>25</td>\n",
       "      <td>77</td>\n",
       "      <td>37</td>\n",
       "      <td>36.2</td>\n",
       "      <td>19.9</td>\n",
       "      <td>7.4</td>\n",
       "      <td>17.5</td>\n",
       "      <td>1.5</td>\n",
       "      <td>...</td>\n",
       "      <td>4.4</td>\n",
       "      <td>10.2</td>\n",
       "      <td>4.1</td>\n",
       "      <td>1.9</td>\n",
       "      <td>0.8</td>\n",
       "      <td>2.1</td>\n",
       "      <td>45.0</td>\n",
       "      <td>49</td>\n",
       "      <td>4</td>\n",
       "      <td>1.3</td>\n",
       "    </tr>\n",
       "    <tr>\n",
       "      <th>10</th>\n",
       "      <td>Kelly Oubre Jr.</td>\n",
       "      <td>WAS</td>\n",
       "      <td>20</td>\n",
       "      <td>63</td>\n",
       "      <td>31</td>\n",
       "      <td>10.7</td>\n",
       "      <td>3.7</td>\n",
       "      <td>1.4</td>\n",
       "      <td>3.3</td>\n",
       "      <td>0.4</td>\n",
       "      <td>...</td>\n",
       "      <td>1.7</td>\n",
       "      <td>0.2</td>\n",
       "      <td>0.5</td>\n",
       "      <td>0.3</td>\n",
       "      <td>0.1</td>\n",
       "      <td>1.6</td>\n",
       "      <td>7.4</td>\n",
       "      <td>0</td>\n",
       "      <td>0</td>\n",
       "      <td>-0.7</td>\n",
       "    </tr>\n",
       "    <tr>\n",
       "      <th>11</th>\n",
       "      <td>Marcin Gortat</td>\n",
       "      <td>WAS</td>\n",
       "      <td>32</td>\n",
       "      <td>75</td>\n",
       "      <td>35</td>\n",
       "      <td>30.1</td>\n",
       "      <td>13.5</td>\n",
       "      <td>5.8</td>\n",
       "      <td>10.2</td>\n",
       "      <td>0.0</td>\n",
       "      <td>...</td>\n",
       "      <td>6.9</td>\n",
       "      <td>1.4</td>\n",
       "      <td>1.6</td>\n",
       "      <td>0.6</td>\n",
       "      <td>1.3</td>\n",
       "      <td>2.6</td>\n",
       "      <td>31.6</td>\n",
       "      <td>41</td>\n",
       "      <td>0</td>\n",
       "      <td>0.8</td>\n",
       "    </tr>\n",
       "    <tr>\n",
       "      <th>12</th>\n",
       "      <td>Marcus Thornton</td>\n",
       "      <td>WAS</td>\n",
       "      <td>29</td>\n",
       "      <td>61</td>\n",
       "      <td>32</td>\n",
       "      <td>18.2</td>\n",
       "      <td>9.7</td>\n",
       "      <td>3.5</td>\n",
       "      <td>8.9</td>\n",
       "      <td>1.5</td>\n",
       "      <td>...</td>\n",
       "      <td>1.8</td>\n",
       "      <td>1.4</td>\n",
       "      <td>0.8</td>\n",
       "      <td>0.8</td>\n",
       "      <td>0.1</td>\n",
       "      <td>1.5</td>\n",
       "      <td>16.4</td>\n",
       "      <td>0</td>\n",
       "      <td>0</td>\n",
       "      <td>0.7</td>\n",
       "    </tr>\n",
       "    <tr>\n",
       "      <th>13</th>\n",
       "      <td>Markieff Morris</td>\n",
       "      <td>WAS</td>\n",
       "      <td>26</td>\n",
       "      <td>64</td>\n",
       "      <td>22</td>\n",
       "      <td>25.5</td>\n",
       "      <td>12.0</td>\n",
       "      <td>4.8</td>\n",
       "      <td>11.2</td>\n",
       "      <td>0.7</td>\n",
       "      <td>...</td>\n",
       "      <td>4.4</td>\n",
       "      <td>1.9</td>\n",
       "      <td>2.1</td>\n",
       "      <td>0.9</td>\n",
       "      <td>0.5</td>\n",
       "      <td>2.9</td>\n",
       "      <td>23.7</td>\n",
       "      <td>2</td>\n",
       "      <td>0</td>\n",
       "      <td>-1.4</td>\n",
       "    </tr>\n",
       "    <tr>\n",
       "      <th>14</th>\n",
       "      <td>Nene</td>\n",
       "      <td>WAS</td>\n",
       "      <td>33</td>\n",
       "      <td>57</td>\n",
       "      <td>28</td>\n",
       "      <td>19.2</td>\n",
       "      <td>9.2</td>\n",
       "      <td>3.7</td>\n",
       "      <td>6.7</td>\n",
       "      <td>0.0</td>\n",
       "      <td>...</td>\n",
       "      <td>3.6</td>\n",
       "      <td>1.7</td>\n",
       "      <td>1.3</td>\n",
       "      <td>0.9</td>\n",
       "      <td>0.5</td>\n",
       "      <td>2.7</td>\n",
       "      <td>20.1</td>\n",
       "      <td>1</td>\n",
       "      <td>0</td>\n",
       "      <td>0.5</td>\n",
       "    </tr>\n",
       "    <tr>\n",
       "      <th>15</th>\n",
       "      <td>Otto Porter Jr.</td>\n",
       "      <td>WAS</td>\n",
       "      <td>23</td>\n",
       "      <td>75</td>\n",
       "      <td>36</td>\n",
       "      <td>11.6</td>\n",
       "      <td>11.6</td>\n",
       "      <td>4.5</td>\n",
       "      <td>9.6</td>\n",
       "      <td>1.3</td>\n",
       "      <td>...</td>\n",
       "      <td>3.9</td>\n",
       "      <td>1.6</td>\n",
       "      <td>0.9</td>\n",
       "      <td>1.4</td>\n",
       "      <td>0.4</td>\n",
       "      <td>2.2</td>\n",
       "      <td>24.8</td>\n",
       "      <td>5</td>\n",
       "      <td>0</td>\n",
       "      <td>0.6</td>\n",
       "    </tr>\n",
       "    <tr>\n",
       "      <th>16</th>\n",
       "      <td>Ramon Sessions</td>\n",
       "      <td>WAS</td>\n",
       "      <td>30</td>\n",
       "      <td>82</td>\n",
       "      <td>41</td>\n",
       "      <td>9.9</td>\n",
       "      <td>9.9</td>\n",
       "      <td>3.4</td>\n",
       "      <td>7.2</td>\n",
       "      <td>0.4</td>\n",
       "      <td>...</td>\n",
       "      <td>2.2</td>\n",
       "      <td>2.9</td>\n",
       "      <td>1.4</td>\n",
       "      <td>0.6</td>\n",
       "      <td>0.1</td>\n",
       "      <td>1.2</td>\n",
       "      <td>17.7</td>\n",
       "      <td>3</td>\n",
       "      <td>0</td>\n",
       "      <td>0.7</td>\n",
       "    </tr>\n",
       "    <tr>\n",
       "      <th>17</th>\n",
       "      <td>Alec Burks</td>\n",
       "      <td>UTA</td>\n",
       "      <td>24</td>\n",
       "      <td>31</td>\n",
       "      <td>13</td>\n",
       "      <td>25.7</td>\n",
       "      <td>13.3</td>\n",
       "      <td>4.4</td>\n",
       "      <td>10.8</td>\n",
       "      <td>1.0</td>\n",
       "      <td>...</td>\n",
       "      <td>3.0</td>\n",
       "      <td>2.0</td>\n",
       "      <td>1.6</td>\n",
       "      <td>0.6</td>\n",
       "      <td>0.1</td>\n",
       "      <td>2.3</td>\n",
       "      <td>21.0</td>\n",
       "      <td>0</td>\n",
       "      <td>0</td>\n",
       "      <td>-0.4</td>\n",
       "    </tr>\n",
       "    <tr>\n",
       "      <th>18</th>\n",
       "      <td>Chris Johnson</td>\n",
       "      <td>UTA</td>\n",
       "      <td>26</td>\n",
       "      <td>70</td>\n",
       "      <td>38</td>\n",
       "      <td>12.2</td>\n",
       "      <td>2.9</td>\n",
       "      <td>1.0</td>\n",
       "      <td>2.8</td>\n",
       "      <td>0.4</td>\n",
       "      <td>...</td>\n",
       "      <td>1.5</td>\n",
       "      <td>0.6</td>\n",
       "      <td>0.6</td>\n",
       "      <td>0.5</td>\n",
       "      <td>0.3</td>\n",
       "      <td>1.4</td>\n",
       "      <td>7.8</td>\n",
       "      <td>0</td>\n",
       "      <td>0</td>\n",
       "      <td>0.0</td>\n",
       "    </tr>\n",
       "    <tr>\n",
       "      <th>19</th>\n",
       "      <td>Derrick Favors</td>\n",
       "      <td>UTA</td>\n",
       "      <td>24</td>\n",
       "      <td>62</td>\n",
       "      <td>30</td>\n",
       "      <td>32.0</td>\n",
       "      <td>16.4</td>\n",
       "      <td>6.7</td>\n",
       "      <td>13.1</td>\n",
       "      <td>0.0</td>\n",
       "      <td>...</td>\n",
       "      <td>5.4</td>\n",
       "      <td>1.5</td>\n",
       "      <td>1.7</td>\n",
       "      <td>1.2</td>\n",
       "      <td>1.5</td>\n",
       "      <td>2.4</td>\n",
       "      <td>34.7</td>\n",
       "      <td>19</td>\n",
       "      <td>0</td>\n",
       "      <td>1.6</td>\n",
       "    </tr>\n",
       "  </tbody>\n",
       "</table>\n",
       "<p>20 rows × 24 columns</p>\n",
       "</div>"
      ],
      "text/plain": [
       "             PLAYER TEAM  AGE  GP  W    MIN   PTS  FGM   FGA  3PM     ...      \\\n",
       "0     Alan Anderson  WAS   33  13   8  14.8   5.0  1.6   4.5  0.9     ...       \n",
       "1      Bradley Beal  WAS   23  55  28  31.1  17.4  6.5  14.5  1.9     ...       \n",
       "2      DeJuan Blair  WAS   27  29  12   7.5   2.1  1.0   2.3  0.0     ...       \n",
       "3       Drew Gooden  WAS   34  30  18  10.2   2.7  1.1   3.4  0.2     ...       \n",
       "4    Garrett Temple  WAS   30  80  40  24.4   7.3  2.5   6.3  1.1     ...       \n",
       "5         Gary Neal  WAS   31  40  18  20.2   9.8  3.8   8.1  1.0     ...       \n",
       "6        JJ Hickson  WAS   27  35  17  12.5   5.9  2.3   4.4  0.0     ...       \n",
       "7      Jared Dudley  WAS   30  81  40  25.9   7.9  2.9   6.0  1.2     ...       \n",
       "8      Jarell Eddie  WAS   24  26  13   5.6   2.4  0.8   2.5  0.6     ...       \n",
       "9         John Wall  WAS   25  77  37  36.2  19.9  7.4  17.5  1.5     ...       \n",
       "10  Kelly Oubre Jr.  WAS   20  63  31  10.7   3.7  1.4   3.3  0.4     ...       \n",
       "11    Marcin Gortat  WAS   32  75  35  30.1  13.5  5.8  10.2  0.0     ...       \n",
       "12  Marcus Thornton  WAS   29  61  32  18.2   9.7  3.5   8.9  1.5     ...       \n",
       "13  Markieff Morris  WAS   26  64  22  25.5  12.0  4.8  11.2  0.7     ...       \n",
       "14             Nene  WAS   33  57  28  19.2   9.2  3.7   6.7  0.0     ...       \n",
       "15  Otto Porter Jr.  WAS   23  75  36  11.6  11.6  4.5   9.6  1.3     ...       \n",
       "16   Ramon Sessions  WAS   30  82  41   9.9   9.9  3.4   7.2  0.4     ...       \n",
       "17       Alec Burks  UTA   24  31  13  25.7  13.3  4.4  10.8  1.0     ...       \n",
       "18    Chris Johnson  UTA   26  70  38  12.2   2.9  1.0   2.8  0.4     ...       \n",
       "19   Derrick Favors  UTA   24  62  30  32.0  16.4  6.7  13.1  0.0     ...       \n",
       "\n",
       "    DREB   AST  TOV  STL  BLK   PF    FP  DD2  TD3  plus/minus  \n",
       "0    2.0   1.1  0.2  0.3  0.1  1.9  10.1    0    0         2.3  \n",
       "1    2.7   2.9  2.0  1.0  0.2  2.1  27.4    0    0        -0.4  \n",
       "2    1.3   0.4  0.5  0.3  0.1  1.8   5.5    0    0        -1.3  \n",
       "3    1.9   0.4  0.4  0.3  0.4  1.3   8.3    2    0        -2.8  \n",
       "4    2.2   1.8  0.8  0.9  0.2  2.4  15.5    0    0        -0.5  \n",
       "5    1.8   1.2  0.7  0.5  0.0  1.4  14.9    0    0        -4.1  \n",
       "6    2.7   0.7  0.7  0.4  0.4  1.3  13.2    2    0        -1.7  \n",
       "7    2.9   2.1  1.0  0.9  0.2  2.3  17.7    0    0         0.7  \n",
       "8    0.8   0.2  0.0  0.2  0.0  0.2   4.4    0    0        -1.3  \n",
       "9    4.4  10.2  4.1  1.9  0.8  2.1  45.0   49    4         1.3  \n",
       "10   1.7   0.2  0.5  0.3  0.1  1.6   7.4    0    0        -0.7  \n",
       "11   6.9   1.4  1.6  0.6  1.3  2.6  31.6   41    0         0.8  \n",
       "12   1.8   1.4  0.8  0.8  0.1  1.5  16.4    0    0         0.7  \n",
       "13   4.4   1.9  2.1  0.9  0.5  2.9  23.7    2    0        -1.4  \n",
       "14   3.6   1.7  1.3  0.9  0.5  2.7  20.1    1    0         0.5  \n",
       "15   3.9   1.6  0.9  1.4  0.4  2.2  24.8    5    0         0.6  \n",
       "16   2.2   2.9  1.4  0.6  0.1  1.2  17.7    3    0         0.7  \n",
       "17   3.0   2.0  1.6  0.6  0.1  2.3  21.0    0    0        -0.4  \n",
       "18   1.5   0.6  0.6  0.5  0.3  1.4   7.8    0    0         0.0  \n",
       "19   5.4   1.5  1.7  1.2  1.5  2.4  34.7   19    0         1.6  \n",
       "\n",
       "[20 rows x 24 columns]"
      ]
     },
     "execution_count": 3,
     "metadata": {},
     "output_type": "execute_result"
    }
   ],
   "source": [
    "NBA_data.head(20)"
   ]
  },
  {
   "cell_type": "markdown",
   "metadata": {},
   "source": [
    "This data set keeps track of the *per-game* statistics of every player in the NBA during the 2015-2016 Regular Season. It is, currently, sorted by Teams, in reverse alphabetical order (within each team, it is sorted in alphabetical order by the last name of the player).\n",
    "\n",
    "Now, recall that the stat line we are interested in is the 'plus/minus' category. If you've forgotten, you can refer to the definition of 'plus/minus' laid out at the beginning of the notebook, but here is a terse defintion: 'plus/minus' is an indication of whether a player generally closes the gap between the score if their team is behind, and retains the lead if their team is ahead. As such, you can imagine that the 'plus/minus' stat is one in which coaches/team managers care about a lot. It's a very good metric of player effectiveness. \n",
    "\n",
    "What makes the 'plus/minus' category such an interesting statistic is that, it's not immediately clear how 'plus/minus' relates to all of the other features on a stat sheet. To get a feel for why this is true, lets go ahead and inspect the 'plus/minus' column. "
   ]
  },
  {
   "cell_type": "code",
   "execution_count": 4,
   "metadata": {},
   "outputs": [
    {
     "data": {
      "text/plain": [
       "count    476.000000\n",
       "mean      -0.394958\n",
       "std        3.076412\n",
       "min      -10.000000\n",
       "25%       -2.000000\n",
       "50%       -0.500000\n",
       "75%        1.100000\n",
       "max       13.200000\n",
       "Name: plus/minus, dtype: float64"
      ]
     },
     "execution_count": 4,
     "metadata": {},
     "output_type": "execute_result"
    }
   ],
   "source": [
    "NBA_data[\"plus/minus\"].describe()"
   ]
  },
  {
   "cell_type": "markdown",
   "metadata": {},
   "source": [
    "Notice that the average 'plus/minus' hovers right around zero: the typical NBA player doesn't drag their team down, nor do they elevate their them to massive successes. But we also see that there was a player who had a 'plus/minus' of +13.2! Which is absolutely insane! Who was that player?"
   ]
  },
  {
   "cell_type": "code",
   "execution_count": 5,
   "metadata": {},
   "outputs": [
    {
     "name": "stdout",
     "output_type": "stream",
     "text": [
      "             PLAYER TEAM  AGE  GP  W    MIN   PTS  FGM   FGA  3PM     ...      \\\n",
      "324  Draymond Green  GSW   26  81  73  34.7  14.0  5.0  10.1  1.2     ...       \n",
      "\n",
      "     DREB  AST  TOV  STL  BLK   PF    FP  DD2  TD3  plus/minus  \n",
      "324   7.8  7.4  3.2  1.5  1.4  3.0  41.8   33   13        13.2  \n",
      "\n",
      "[1 rows x 24 columns]\n"
     ]
    }
   ],
   "source": [
    "print(NBA_data[NBA_data['plus/minus'] == 13.2])"
   ]
  },
  {
   "cell_type": "markdown",
   "metadata": {},
   "source": [
    "Ahh, of course, the ineffable Draymond Green. \n",
    "\n",
    "Now, notice that, despite Draymond's rediculous high 'plus/minus' stat, *Draymond would not be classified as a high volume scorer*. I mean, the guy only averaged 14 points a game! So, we already have our first simple insight:\n",
    "\n",
    "### Insight 1: High volume scoring is not the sole indicator of a high plus/minus\n",
    "\n",
    "In fact, let's look at the top five scorers, and let's check our their plus/minuses:"
   ]
  },
  {
   "cell_type": "code",
   "execution_count": 6,
   "metadata": {},
   "outputs": [
    {
     "name": "stdout",
     "output_type": "stream",
     "text": [
      "334    30.1\n",
      "310    29.0\n",
      "149    28.2\n",
      "70     26.9\n",
      "391    25.3\n",
      "Name: PTS, dtype: float64\n"
     ]
    }
   ],
   "source": [
    "print(NBA_data['PTS'].sort_values(ascending=False).head(5))"
   ]
  },
  {
   "cell_type": "code",
   "execution_count": 7,
   "metadata": {},
   "outputs": [
    {
     "name": "stdout",
     "output_type": "stream",
     "text": [
      "12.9\n",
      "1.5\n",
      "9.0\n",
      "0.6\n",
      "8.1\n"
     ]
    }
   ],
   "source": [
    "for i in [334, 310, 149, 70, 391]:\n",
    "    print(NBA_data.loc[i,'plus/minus'])"
   ]
  },
  {
   "cell_type": "markdown",
   "metadata": {},
   "source": [
    "This is peculiar, right?! I mean, one would think that being a top five scorer in the NBA should label you as an 'effective player', and yet, we see that the second and fourth highest scorers are within a standard deviation of the average plus/minus! What gives?!\n",
    "\n",
    "By now, you should be convinced that the 'plus/minus' category, despite its utility for analytics, is quite subtle. Therefore, we're going to see if we can gain insight into the plus/minus category by training regression models on our data."
   ]
  },
  {
   "cell_type": "markdown",
   "metadata": {},
   "source": [
    "First thing's first, we need to clean up our data a bit. Let's first check out exactly what stats this data set is keeping track of:"
   ]
  },
  {
   "cell_type": "code",
   "execution_count": 8,
   "metadata": {},
   "outputs": [
    {
     "name": "stdout",
     "output_type": "stream",
     "text": [
      "Index(['PLAYER', 'TEAM', 'AGE', 'GP', 'W ', 'MIN', 'PTS', 'FGM', 'FGA', '3PM',\n",
      "       '3PA', 'FTM', 'FTA', 'OREB', 'DREB', 'AST', 'TOV', 'STL', 'BLK', 'PF',\n",
      "       'FP', 'DD2', 'TD3', 'plus/minus'],\n",
      "      dtype='object')\n"
     ]
    }
   ],
   "source": [
    "print(NBA_data.columns)"
   ]
  },
  {
   "cell_type": "markdown",
   "metadata": {},
   "source": [
    "Now let's clean the dataset and prepare it for model training.\n",
    "\n",
    "We'll proceed to either get rid of columns that are clearly not relevant in our analysis, and also combine certain columns that are redundant.\n",
    "\n",
    "The categories that will not go into our analysis are: age, games played, games won, fantasy points, total number of double-doubles, and total number of triple-doubles. Let's go ahead and get rid of those:"
   ]
  },
  {
   "cell_type": "code",
   "execution_count": 9,
   "metadata": {},
   "outputs": [],
   "source": [
    "NBA_data_cleaned = NBA_data.copy()\n",
    "\n",
    "for i in ['AGE', 'GP', 'W ', 'FP', 'DD2', 'TD3']:\n",
    "    NBA_data_cleaned = NBA_data_cleaned.drop(i, axis=1)"
   ]
  },
  {
   "cell_type": "markdown",
   "metadata": {},
   "source": [
    "Now we can turn certain pairs of columns into a single column. For example, instead of having one column for three pointers made and one columns for three pointers attempted, we can just have one column for three-point percentage. Similarly, instead of two columns for offensive and defensive rebounds, let's simplify to one column for total rebounds."
   ]
  },
  {
   "cell_type": "code",
   "execution_count": 10,
   "metadata": {},
   "outputs": [],
   "source": [
    "NBA_data_cleaned['3P%'] = NBA_data_cleaned['3PM']/NBA_data_cleaned['3PA']\n",
    "NBA_data_cleaned['FG%'] = NBA_data_cleaned['FGM']/NBA_data_cleaned['FGA']\n",
    "NBA_data_cleaned['FT%'] = NBA_data_cleaned['FTM']/NBA_data_cleaned['FTA']\n",
    "NBA_data_cleaned['REB'] = NBA_data_cleaned['OREB'] + NBA_data_cleaned['DREB']\n",
    "\n",
    "for i in ['3PM', '3PA', 'FGM', 'FGA', 'FTM', 'FTA', 'OREB', 'DREB']:\n",
    "    NBA_data_cleaned = NBA_data_cleaned.drop(i, axis=1)"
   ]
  },
  {
   "cell_type": "markdown",
   "metadata": {},
   "source": [
    "Let's check for null values to make sure our data is fully cleaned"
   ]
  },
  {
   "cell_type": "code",
   "execution_count": 11,
   "metadata": {},
   "outputs": [
    {
     "name": "stdout",
     "output_type": "stream",
     "text": [
      "PLAYER         0\n",
      "TEAM           0\n",
      "MIN            0\n",
      "PTS            0\n",
      "AST            0\n",
      "TOV            0\n",
      "STL            0\n",
      "BLK            0\n",
      "PF             0\n",
      "plus/minus     0\n",
      "3P%           79\n",
      "FG%            1\n",
      "FT%           14\n",
      "REB            0\n",
      "dtype: int64\n"
     ]
    }
   ],
   "source": [
    "print(NBA_data_cleaned.isnull().sum())"
   ]
  },
  {
   "cell_type": "markdown",
   "metadata": {},
   "source": [
    "Everything looks fine, except that we have to take into account all the scrubs in the league who didn't attempt any three pointers/field goals/free throws. Clearly, if those players didn't have any attempts in these categories, it means they didn't make any either, so although Python says these are null values due to division by zero, these should clearly be set to zero."
   ]
  },
  {
   "cell_type": "code",
   "execution_count": 12,
   "metadata": {},
   "outputs": [
    {
     "name": "stderr",
     "output_type": "stream",
     "text": [
      "/Users/aafandi/anaconda3/lib/python3.6/site-packages/ipykernel_launcher.py:2: SettingWithCopyWarning: \n",
      "A value is trying to be set on a copy of a slice from a DataFrame\n",
      "\n",
      "See the caveats in the documentation: http://pandas.pydata.org/pandas-docs/stable/indexing.html#indexing-view-versus-copy\n",
      "  \n"
     ]
    }
   ],
   "source": [
    "for i in ['3P%', 'FG%', 'FT%']:\n",
    "    NBA_data_cleaned[i][NBA_data_cleaned[i].isnull()] = 0"
   ]
  },
  {
   "cell_type": "code",
   "execution_count": 13,
   "metadata": {},
   "outputs": [
    {
     "name": "stdout",
     "output_type": "stream",
     "text": [
      "PLAYER        0\n",
      "TEAM          0\n",
      "MIN           0\n",
      "PTS           0\n",
      "AST           0\n",
      "TOV           0\n",
      "STL           0\n",
      "BLK           0\n",
      "PF            0\n",
      "plus/minus    0\n",
      "3P%           0\n",
      "FG%           0\n",
      "FT%           0\n",
      "REB           0\n",
      "dtype: int64\n"
     ]
    }
   ],
   "source": [
    "print(NBA_data_cleaned.isnull().sum())"
   ]
  },
  {
   "cell_type": "markdown",
   "metadata": {},
   "source": [
    "Much better.\n",
    "\n",
    "Now that the data is prepared, let's run some machine learning models. We'll start with k-nearest neighbors. To begin, let's train the model on one feature at a time. To keep things simple, let's use 2-fold cross validation.  "
   ]
  },
  {
   "cell_type": "code",
   "execution_count": 14,
   "metadata": {},
   "outputs": [
    {
     "name": "stdout",
     "output_type": "stream",
     "text": [
      "[(3.0191100536577844, 'PTS'), (3.0520003803445572, 'MIN'), (3.055090656048093, 'BLK'), (3.097412388046357, 'FT%'), (3.118165902166925, 'STL'), (3.128018490994335, 'FG%'), (3.144615764512799, '3P%'), (3.1475164118142462, 'AST'), (3.1629483161390253, 'TOV'), (3.2177610626161193, 'REB'), (3.2886800850085995, 'PF')]\n"
     ]
    }
   ],
   "source": [
    "# Define a function that runs 2-fold cross validation on a k-nearest neighbors model. Returns root mean squared error\n",
    "\n",
    "relevant_features = ['MIN', 'PTS', 'AST', 'TOV', 'STL', 'BLK', 'PF', '3P%', 'FG%', 'FT%', 'REB']\n",
    "\n",
    "def KNN(feature, k):\n",
    "    knn = KNeighborsRegressor(n_neighbors = k, algorithm = 'brute')\n",
    "    kf = KFold(n_splits = 2, shuffle = True, random_state = 1)\n",
    "    neg_mse = cross_val_score(estimator = knn, X = NBA_data_cleaned[[feature]], y = NBA_data_cleaned[['plus/minus']],\n",
    "                             cv = kf, scoring = 'neg_mean_squared_error')\n",
    "    return (np.absolute(neg_mse)**(1/2)).mean()\n",
    "\n",
    "# As k ranges from 1 to 10, keep track of the smallest rmse for each feature\n",
    "\n",
    "def Min_RMSE_KNN(feature):\n",
    "    l = []\n",
    "    for k in [i for i in range(1, 11)]:\n",
    "        l.append(KNN(feature, k))\n",
    "    return min(l), feature\n",
    "\n",
    "# Return a sorted (ascending) list of the smallest rmses\n",
    "smallest_rmse_knn = [Min_RMSE_KNN(feature) for feature in relevant_features]\n",
    "\n",
    "smallest_rmse_knn.sort()\n",
    "\n",
    "print(smallest_rmse_knn)"
   ]
  },
  {
   "cell_type": "markdown",
   "metadata": {},
   "source": [
    "With these calculations, we now have our next insight:\n",
    "\n",
    "### Insight 2: When using a single feature to train a k-nearest neighbors model to predict plus/minus, the top six features which result in the least error in the model are points, minutes, blocks, free-throw percentage, steals, and field goal percentage  \n",
    "\n",
    "From my own understanding of the game, the most suprising feature that shows up on this list is free-throw percentage.\n",
    "\n",
    "Now that we know how choosing one features goes, let's use these top six features to train another nearest neighbors model."
   ]
  },
  {
   "cell_type": "code",
   "execution_count": 15,
   "metadata": {},
   "outputs": [
    {
     "name": "stdout",
     "output_type": "stream",
     "text": [
      "2.897903070123779\n"
     ]
    }
   ],
   "source": [
    "top_six_features = ['PTS', 'MIN', 'BLK', 'FT%', 'STL', 'FG%']\n",
    "\n",
    "def KNN_six_features(k):\n",
    "    knn = KNeighborsRegressor(n_neighbors = k, algorithm = 'brute')\n",
    "    kf = KFold(n_splits = 2, shuffle = True, random_state = 1)\n",
    "    neg_mse = cross_val_score(estimator = knn, X = NBA_data_cleaned[top_six_features], \n",
    "                              y = NBA_data_cleaned[['plus/minus']],\n",
    "                             cv = kf, scoring = 'neg_mean_squared_error')\n",
    "    return (np.absolute(neg_mse)**(1/2)).mean()\n",
    "\n",
    "print(min([KNN_six_features(k) for k in range(1, 11)]))"
   ]
  },
  {
   "cell_type": "markdown",
   "metadata": {},
   "source": [
    "Therefore, after optimizing, we see that\n",
    "\n",
    "### Insight 3: When using the features Points, Minutes, Blocks, Free-Throw Percentage, Steals, and Field Goal Percentage, training a k-nearest neighbors model (with 2-fold cross validation) results in a model with a mean squared error of 2.89, which is less than the standard deviation for plus/minus.\n",
    "\n",
    "Of course, this opens up many questions: Can we do better with *less* features? How about a higher k for k-fold cross validation? These questions are worth exploring, but I will leave that to another project."
   ]
  },
  {
   "cell_type": "markdown",
   "metadata": {},
   "source": [
    "Now let's use linear regression to see if we can really bring down the prediction error from our nearest neighbors model.\n",
    "\n",
    "Let's begin the same way we did in our nearest neighbors model, namely, let's do a linear fit one feature at a time. We'll display the plots of the linear fit juxtaposed against the corresponding scatter plot."
   ]
  },
  {
   "cell_type": "code",
   "execution_count": 16,
   "metadata": {},
   "outputs": [
    {
     "data": {
      "image/png": "[encoded data removed]",
      "text/plain": [
       "<matplotlib.figure.Figure at 0x103c116d8>"
      ]
     },
     "metadata": {},
     "output_type": "display_data"
    }
   ],
   "source": [
    "fig_one_feature, ax = plt.subplots(nrows = 6, ncols = 2, figsize = (15, 30))\n",
    "\n",
    "ax[5, 1].axis('off')\n",
    "\n",
    "for i in range(6):\n",
    "    reg = linear_model.LinearRegression()\n",
    "    reg.fit(NBA_data_cleaned[[relevant_features[i]]], NBA_data_cleaned[['plus/minus']])\n",
    "    predictions = reg.predict(NBA_data_cleaned[[relevant_features[i]]])\n",
    "    ax[i, 0].scatter(NBA_data_cleaned[relevant_features[i]], NBA_data_cleaned['plus/minus'], color='black')\n",
    "    ax[i, 0].plot(NBA_data_cleaned[relevant_features[i]], predictions, color='blue', linewidth=3)\n",
    "    ax[i, 0].set_xlabel(relevant_features[i])\n",
    "    ax[i, 0].set_ylabel('plus/minus')\n",
    "    \n",
    "for i in range(5):\n",
    "    reg = linear_model.LinearRegression()\n",
    "    reg.fit(NBA_data_cleaned[[relevant_features[6 + i]]], NBA_data_cleaned[['plus/minus']])\n",
    "    predictions = reg.predict(NBA_data_cleaned[[relevant_features[6 + i]]])\n",
    "    ax[i, 1].scatter(NBA_data_cleaned[relevant_features[6 + i]], NBA_data_cleaned['plus/minus'], color='black')\n",
    "    ax[i, 1].plot(NBA_data_cleaned[relevant_features[6 + i]], predictions, color='blue', linewidth=3)\n",
    "    ax[i, 1].set_xlabel(relevant_features[6 + i])\n",
    "    ax[i, 1].set_ylabel('plus/minus')"
   ]
  },
  {
   "cell_type": "markdown",
   "metadata": {},
   "source": [
    "Now let's see which of the features results in the lowest root mean squared error."
   ]
  },
  {
   "cell_type": "code",
   "execution_count": 17,
   "metadata": {},
   "outputs": [
    {
     "name": "stdout",
     "output_type": "stream",
     "text": [
      "[(2.9887419348448705, 'MIN'), (2.9459978729344027, 'PTS'), (2.986297655366655, 'AST'), (3.0255185099625557, 'TOV'), (2.9955163928622137, 'STL'), (3.0298536871626336, 'BLK'), (3.0558989864354578, 'PF'), (3.047366982420386, '3P%'), (3.0228104236532936, 'FG%'), (3.029455247644301, 'FT%'), (2.996763907520203, 'REB')]\n"
     ]
    }
   ],
   "source": [
    "def rmse_linear(feature):\n",
    "    reg = linear_model.LinearRegression()\n",
    "    reg.fit(NBA_data_cleaned[[feature]], NBA_data_cleaned[['plus/minus']])\n",
    "    predictions = reg.predict(NBA_data_cleaned[[feature]])\n",
    "    mse = mean_squared_error(y_true=NBA_data_cleaned[['plus/minus']], y_pred=predictions)\n",
    "    return mse**(1/2), feature\n",
    "\n",
    "print([rmse_linear(feature) for feature in relevant_features])"
   ]
  },
  {
   "cell_type": "markdown",
   "metadata": {},
   "source": [
    "These calculations suggest we should use the following features for our linear regression model: Minutes, Points, Assists, Steals, and Rebounds.\n",
    "\n",
    "In order to determine our training data, we'll employ the following strategy. First, we'll slice the data *by individual teams*. For each team, we will use the corresponding slice as training data for a linear regression model. Then we'll take the top 16 teams (ranked by lowest root mean squared error), use the totality of those teams as our training data, and use the rest of the teams for our test data."
   ]
  },
  {
   "cell_type": "code",
   "execution_count": 18,
   "metadata": {},
   "outputs": [
    {
     "name": "stdout",
     "output_type": "stream",
     "text": [
      "0     3.031277\n",
      "5     3.142418\n",
      "25    3.163751\n",
      "8     3.354923\n",
      "1     3.372606\n",
      "27    3.390910\n",
      "22    3.415304\n",
      "14    3.419074\n",
      "4     3.448207\n",
      "21    3.527742\n",
      "13    3.576081\n",
      "23    3.587529\n",
      "15    3.590032\n",
      "26    3.711033\n",
      "17    3.786025\n",
      "29    3.824542\n",
      "dtype: float64\n"
     ]
    }
   ],
   "source": [
    "teams = NBA_data_cleaned['TEAM'].unique()\n",
    "five_features = ['MIN', 'PTS', 'AST', 'STL', 'REB']\n",
    "\n",
    "def team_linear_regression(team):\n",
    "    reg = linear_model.LinearRegression()\n",
    "    X = NBA_data_cleaned[NBA_data_cleaned['TEAM'] == team][five_features]\n",
    "    y = NBA_data_cleaned[NBA_data_cleaned['TEAM'] == team][['plus/minus']]\n",
    "    reg.fit(X, y)\n",
    "    predictions = reg.predict(NBA_data_cleaned[NBA_data_cleaned['TEAM'] != team][five_features])\n",
    "    mse = mean_squared_error(y_true=NBA_data_cleaned[NBA_data_cleaned['TEAM'] != team][['plus/minus']], y_pred=predictions)\n",
    "    return mse**(1/2)\n",
    "\n",
    "print(pd.Series([team_linear_regression(team) for team in teams]).sort_values().head(16))"
   ]
  },
  {
   "cell_type": "code",
   "execution_count": 19,
   "metadata": {},
   "outputs": [
    {
     "name": "stdout",
     "output_type": "stream",
     "text": [
      "['WAS', 'POR', 'CHI', 'ORL', 'UTA', 'BOS', 'DEN', 'MIA', 'SAC', 'DET', 'MIL', 'DAL', 'MEM', 'CHA', 'LAC', 'ATL']\n"
     ]
    }
   ],
   "source": [
    "training_teams = []\n",
    "\n",
    "for i in [0, 5, 25, 8, 1, 27, 22, 14, 4, 21, 13, 23, 15, 26, 17, 29]:\n",
    "    training_teams.append(teams[i])\n",
    "    \n",
    "print(training_teams)"
   ]
  },
  {
   "cell_type": "code",
   "execution_count": 20,
   "metadata": {},
   "outputs": [],
   "source": [
    "#A function that slices a single team from the data\n",
    "def single_team(team):\n",
    "    return NBA_data_cleaned[NBA_data_cleaned['TEAM'] == team]\n",
    "\n",
    "training_teams_df = []\n",
    "\n",
    "for team in training_teams:\n",
    "    training_teams_df.append(single_team(team))\n",
    "    \n",
    "training_data = pd.concat(training_teams_df)"
   ]
  },
  {
   "cell_type": "code",
   "execution_count": 21,
   "metadata": {},
   "outputs": [],
   "source": [
    "# Start by saying the list of teams to test on is every team\n",
    "test_teams_list = list(NBA_data_cleaned['TEAM'].unique())\n",
    "\n",
    "# Iterate through the above list. If a team is actually a training team, remove it\n",
    "for team in test_teams_list:\n",
    "    if team in training_teams:\n",
    "        test_teams_list.remove(team)\n",
    "    \n",
    "test_teams_df = []\n",
    "\n",
    "for team in test_teams_list:\n",
    "    test_teams_df.append(single_team(team))\n",
    "    \n",
    "testing_data = pd.concat(test_teams_df)"
   ]
  },
  {
   "cell_type": "markdown",
   "metadata": {},
   "source": [
    "Alright, we have our training and testing data. Let's run regression!"
   ]
  },
  {
   "cell_type": "code",
   "execution_count": 22,
   "metadata": {},
   "outputs": [
    {
     "name": "stdout",
     "output_type": "stream",
     "text": [
      "3.3752539769500194\n"
     ]
    }
   ],
   "source": [
    "reg = linear_model.LinearRegression()\n",
    "\n",
    "X_train = training_data[five_features]\n",
    "y_train = training_data['plus/minus']\n",
    "X_test = testing_data[five_features]\n",
    "\n",
    "reg.fit(X_train, y_train)\n",
    "\n",
    "predictions = reg.predict(X_test)\n",
    "\n",
    "mse = mean_squared_error(y_true = testing_data['plus/minus'], y_pred = predictions)\n",
    "\n",
    "print(mse**(1/2))"
   ]
  },
  {
   "cell_type": "markdown",
   "metadata": {},
   "source": [
    "It appears that linear regression while training on 16 teams didn't have that much better of an effect than nearest neighbors! Of course, we can tweak our model, and use less teams to see if that makes the error smaller.\n",
    "\n",
    "This has, hopefully, given you a glimpse of how subtle the plus/minus category can be. For now, let's end with our final insight:\n",
    "\n",
    "### Insight 3: Optimizing a k-nearest neighbors model with 2-fold cross validation results in a more accurate model than linear regression.\n",
    "\n",
    "There are still many questions left unanswered, and still a TON of ways to tweak the models used in this notebook, not to mention all the models we didn't even try yet!  But with the simple models we've employed so far, hopefully, if you've come this far in the notebook, you are convinced that this is an interesting problem to consider tackling.  "
   ]
  }
 ],
 "metadata": {
  "kernelspec": {
   "display_name": "Python 3",
   "language": "python",
   "name": "python3"
  },
  "language_info": {
   "codemirror_mode": {
    "name": "ipython",
    "version": 3
   },
   "file_extension": ".py",
   "mimetype": "text/x-python",
   "name": "python",
   "nbconvert_exporter": "python",
   "pygments_lexer": "ipython3",
   "version": "3.6.4"
  }
 },
 "nbformat": 4,
 "nbformat_minor": 2
}
